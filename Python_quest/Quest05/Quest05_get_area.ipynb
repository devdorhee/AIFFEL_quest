{
 "cells": [
  {
   "cell_type": "code",
   "execution_count": null,
   "id": "3be24a58",
   "metadata": {},
   "outputs": [
    {
     "name": "stdout",
     "output_type": "stream",
     "text": [
      "**************************************************\n",
      "넓이를 구하고 싶은 사각형의 숫자를 써주세요.\n",
      " 1.직사각형 2.평행사변형 3.사다리꼴 \n",
      " >>> 3\n",
      "사다리꼴 함수는 trape()입니다.\n",
      "밑변, 윗변, 높이를 입력하세요. 예시 : 밑변,윗변,높이\n",
      " >>> 3,2,1\n",
      "사다리꼴의 넓이는 : 2.5\n",
      "================================================== \n",
      "\n",
      "**************************************************\n"
     ]
    }
   ],
   "source": [
    "# 사각형 넓이를 구하는 클래스 완성!\n",
    "class Square:\n",
    "    def __init__(self):\n",
    "        print('*' * 50)\n",
    "        \n",
    "        self.square = int(input('넓이를 구하고 싶은 사각형의 숫자를 써주세요.\\n 1.직사각형 2.평행사변형 3.사다리꼴 \\n >>> '))\n",
    "\n",
    "        if self.square == 1:\n",
    "            print('직사각형 함수는 rect()입니다.')\n",
    "\n",
    "        elif self.square == 2:\n",
    "            print('평행사변형 함수는 par()입니다.')\n",
    "        \n",
    "        elif self.square == 3:\n",
    "            print('사다리꼴 함수는 trape()입니다.')\n",
    "        \n",
    "        else:\n",
    "            print('1, 2, 3 중에서 다시 입력해주세요')\n",
    "\n",
    "    def rect(self):\n",
    "        width, vertical = map(int, input('가로, 세로를 입력하세요. 예시 : 가로,세로\\n >>> ').split(','))\n",
    "        area = width * vertical\n",
    "        result = '직사각형의 넓이는 : ' + str(area)\n",
    "        return print(result)\n",
    "    # 평행사변형 메서드\n",
    "    def par(self):\n",
    "        lower_base, height = map(int, input('밑변, 높이를 입력하세요. 예시 : 밑변,높이\\n >>> ').split(','))\n",
    "        area = lower_base * height\n",
    "        result = '평생사변형의 넓이는 : ' + str(area)\n",
    "        return print(result)\n",
    "    # 사다리꼴 메서드\n",
    "    def trape(self):\n",
    "        lower_base, upper_base, height = map(int, input('밑변, 윗변, 높이를 입력하세요. 예시 : 밑변,윗변,높이\\n >>> ').split(','))\n",
    "        area = (lower_base + upper_base) * height * 1/2\n",
    "        result = '사다리꼴의 넓이는 : ' + str(area)\n",
    "        return print(result)\n",
    "\n",
    "def main():\n",
    "    while True:\n",
    "        try:\n",
    "            a = Square()  # 객체 생성 & 2, 3을 각각 입력해 봅시다.\n",
    "\n",
    "            if a.square == 1:\n",
    "                a.rect()\n",
    "            elif a.square == 2:\n",
    "                a.par()\n",
    "            elif a.square == 3:\n",
    "                a.trape()\n",
    "                \n",
    "        except ValueError as e:\n",
    "            print(e)\n",
    "\n",
    "        finally:\n",
    "            print('=' * 50, '\\n')\n",
    "\n",
    "if __name__ == \"__main__\":\n",
    "    main()\n",
    "    \n",
    "# 평형사변형의 넓이\n",
    "#a.par()  # 3,2를 입력했을 때 넓이가 6이 나와야 합니다.\n",
    "# 사다리꼴의 넓이\n",
    "#a.trape()  # 3,2,1 을 입력했을 때 넓이가 2.5이 나와야 합니다.\n"
   ]
  },
  {
   "cell_type": "code",
   "execution_count": null,
   "id": "b93db373",
   "metadata": {},
   "outputs": [],
   "source": []
  }
 ],
 "metadata": {
  "kernelspec": {
   "display_name": "Python 3 (ipykernel)",
   "language": "python",
   "name": "python3"
  },
  "language_info": {
   "codemirror_mode": {
    "name": "ipython",
    "version": 3
   },
   "file_extension": ".py",
   "mimetype": "text/x-python",
   "name": "python",
   "nbconvert_exporter": "python",
   "pygments_lexer": "ipython3",
   "version": "3.9.7"
  }
 },
 "nbformat": 4,
 "nbformat_minor": 5
}
